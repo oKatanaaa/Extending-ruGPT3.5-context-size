{
 "cells": [
  {
   "cell_type": "code",
   "execution_count": 1,
   "metadata": {},
   "outputs": [
    {
     "name": "stderr",
     "output_type": "stream",
     "text": [
      "/opt/conda/lib/python3.10/site-packages/tqdm/auto.py:21: TqdmWarning: IProgress not found. Please update jupyter and ipywidgets. See https://ipywidgets.readthedocs.io/en/stable/user_install.html\n",
      "  from .autonotebook import tqdm as notebook_tqdm\n"
     ]
    }
   ],
   "source": [
    "from datasets import load_dataset"
   ]
  },
  {
   "cell_type": "code",
   "execution_count": 53,
   "metadata": {},
   "outputs": [
    {
     "name": "stderr",
     "output_type": "stream",
     "text": [
      "Resolving data files: 100%|██████████| 21/21 [00:00<00:00, 38.04it/s]\n"
     ]
    }
   ],
   "source": [
    "dataset = load_dataset(\"wikimedia/wikipedia\", \"20231101.ru\")"
   ]
  },
  {
   "cell_type": "code",
   "execution_count": 54,
   "metadata": {},
   "outputs": [],
   "source": [
    "df = dataset['train'].to_pandas()"
   ]
  },
  {
   "cell_type": "code",
   "execution_count": 55,
   "metadata": {},
   "outputs": [
    {
     "data": {
      "text/plain": [
       "(1945063, 4)"
      ]
     },
     "execution_count": 55,
     "metadata": {},
     "output_type": "execute_result"
    }
   ],
   "source": [
    "df.shape"
   ]
  },
  {
   "cell_type": "code",
   "execution_count": 3,
   "metadata": {},
   "outputs": [],
   "source": [
    "from data_utils import prepare_tokenizer_dataset"
   ]
  },
  {
   "cell_type": "code",
   "execution_count": 4,
   "metadata": {},
   "outputs": [
    {
     "name": "stdout",
     "output_type": "stream",
     "text": [
      "Loading dataset...\n"
     ]
    },
    {
     "name": "stderr",
     "output_type": "stream",
     "text": [
      "Resolving data files: 100%|██████████| 21/21 [00:00<00:00, 35.90it/s]\n"
     ]
    },
    {
     "name": "stdout",
     "output_type": "stream",
     "text": [
      "Loaded.\n",
      "Convert to pandas...\n",
      "Converted.\n",
      "Splitting...\n",
      "Splitted. Train samples: 10000. Test samples: 1000\n"
     ]
    },
    {
     "name": "stderr",
     "output_type": "stream",
     "text": [
      "Map: 100%|██████████| 1000/1000 [00:18<00:00, 52.84 examples/s]\n"
     ]
    }
   ],
   "source": [
    "train_data, val_data, tokenizer = prepare_tokenizer_dataset(format_v=2, max_ctx_len=4096)"
   ]
  },
  {
   "cell_type": "code",
   "execution_count": 50,
   "metadata": {},
   "outputs": [],
   "source": [
    "it = iter(val_data)\n",
    "for i in range(142):\n",
    "    x = next(it)"
   ]
  },
  {
   "cell_type": "code",
   "execution_count": 51,
   "metadata": {},
   "outputs": [
    {
     "data": {
      "text/plain": [
       "319"
      ]
     },
     "execution_count": 51,
     "metadata": {},
     "output_type": "execute_result"
    }
   ],
   "source": [
    "len(x['labels'])"
   ]
  },
  {
   "cell_type": "code",
   "execution_count": 56,
   "metadata": {},
   "outputs": [],
   "source": [
    "lengths = list(map(lambda x: len(x), df.text))"
   ]
  },
  {
   "cell_type": "code",
   "execution_count": 57,
   "metadata": {},
   "outputs": [],
   "source": [
    "import matplotlib.pyplot as plt"
   ]
  },
  {
   "cell_type": "code",
   "execution_count": 58,
   "metadata": {},
   "outputs": [
    {
     "data": {
      "text/plain": [
       "(array([1.939877e+06, 4.354000e+03, 6.780000e+02, 1.060000e+02,\n",
       "        3.000000e+01, 7.000000e+00, 5.000000e+00, 3.000000e+00,\n",
       "        1.000000e+00, 2.000000e+00]),\n",
       " array([1.000000e+00, 4.470840e+04, 8.941580e+04, 1.341232e+05,\n",
       "        1.788306e+05, 2.235380e+05, 2.682454e+05, 3.129528e+05,\n",
       "        3.576602e+05, 4.023676e+05, 4.470750e+05]),\n",
       " <BarContainer object of 10 artists>)"
      ]
     },
     "execution_count": 58,
     "metadata": {},
     "output_type": "execute_result"
    },
    {
     "data": {
      "image/png": "[encoded data removed]",
      "text/plain": [
       "<Figure size 640x480 with 1 Axes>"
      ]
     },
     "metadata": {},
     "output_type": "display_data"
    }
   ],
   "source": [
    "plt.hist(lengths)"
   ]
  },
  {
   "cell_type": "code",
   "execution_count": 149,
   "metadata": {},
   "outputs": [],
   "source": [
    "select = list(map(lambda x: \\\n",
    "    len(x) > 20000 and \n",
    "    x.count('\\n') < 260 and \n",
    "        len(x) < 30000, df.text))"
   ]
  },
  {
   "cell_type": "code",
   "execution_count": 150,
   "metadata": {},
   "outputs": [],
   "source": [
    "selected_df = df[select]"
   ]
  },
  {
   "cell_type": "code",
   "execution_count": 151,
   "metadata": {},
   "outputs": [
    {
     "data": {
      "text/plain": [
       "(12776, 4)"
      ]
     },
     "execution_count": 151,
     "metadata": {},
     "output_type": "execute_result"
    }
   ],
   "source": [
    "selected_df.shape"
   ]
  },
  {
   "cell_type": "code",
   "execution_count": 152,
   "metadata": {},
   "outputs": [],
   "source": [
    "lengths2 = list(map(lambda x: len(x), selected_df.text))"
   ]
  },
  {
   "cell_type": "code",
   "execution_count": 153,
   "metadata": {},
   "outputs": [
    {
     "data": {
      "text/plain": [
       "(array([2122., 1837., 1698., 1488., 1257., 1086.,  922.,  848.,  820.,\n",
       "         698.]),\n",
       " array([20001. , 21000.2, 21999.4, 22998.6, 23997.8, 24997. , 25996.2,\n",
       "        26995.4, 27994.6, 28993.8, 29993. ]),\n",
       " <BarContainer object of 10 artists>)"
      ]
     },
     "execution_count": 153,
     "metadata": {},
     "output_type": "execute_result"
    },
    {
     "data": {
      "image/png": "[encoded data removed]",
      "text/plain": [
       "<Figure size 640x480 with 1 Axes>"
      ]
     },
     "metadata": {},
     "output_type": "display_data"
    }
   ],
   "source": [
    "plt.hist(lengths2)"
   ]
  },
  {
   "cell_type": "code",
   "execution_count": 154,
   "metadata": {},
   "outputs": [],
   "source": [
    "long_text_only = selected_df[['text']]"
   ]
  },
  {
   "cell_type": "code",
   "execution_count": 155,
   "metadata": {},
   "outputs": [],
   "source": [
    "long_text_only.reset_index(inplace=True)"
   ]
  },
  {
   "cell_type": "code",
   "execution_count": 158,
   "metadata": {},
   "outputs": [],
   "source": [
    "long_text_only.to_parquet('long_text_wiki.prk', index=False)"
   ]
  },
  {
   "cell_type": "code",
   "execution_count": 159,
   "metadata": {},
   "outputs": [],
   "source": [
    "import pandas as pd"
   ]
  },
  {
   "cell_type": "code",
   "execution_count": 160,
   "metadata": {},
   "outputs": [
    {
     "data": {
      "text/html": [
       "<div>\n",
       "<style scoped>\n",
       "    .dataframe tbody tr th:only-of-type {\n",
       "        vertical-align: middle;\n",
       "    }\n",
       "\n",
       "    .dataframe tbody tr th {\n",
       "        vertical-align: top;\n",
       "    }\n",
       "\n",
       "    .dataframe thead th {\n",
       "        text-align: right;\n",
       "    }\n",
       "</style>\n",
       "<table border=\"1\" class=\"dataframe\">\n",
       "  <thead>\n",
       "    <tr style=\"text-align: right;\">\n",
       "      <th></th>\n",
       "      <th>index</th>\n",
       "      <th>text</th>\n",
       "    </tr>\n",
       "  </thead>\n",
       "  <tbody>\n",
       "    <tr>\n",
       "      <th>0</th>\n",
       "      <td>5</td>\n",
       "      <td>Социо́ника — псевдонаучная концепция типов лич...</td>\n",
       "    </tr>\n",
       "    <tr>\n",
       "      <th>1</th>\n",
       "      <td>6</td>\n",
       "      <td>Шко́ла (от  — досуг, учебное занятие, школа) —...</td>\n",
       "    </tr>\n",
       "    <tr>\n",
       "      <th>2</th>\n",
       "      <td>13</td>\n",
       "      <td>Военный коммунизм — название внутренней полити...</td>\n",
       "    </tr>\n",
       "    <tr>\n",
       "      <th>3</th>\n",
       "      <td>30</td>\n",
       "      <td>Дворцо́вая пло́щадь (с 1918 до 1944 — площадь ...</td>\n",
       "    </tr>\n",
       "    <tr>\n",
       "      <th>4</th>\n",
       "      <td>32</td>\n",
       "      <td>Эрмита́ж (от  — место уединения, келья, приют ...</td>\n",
       "    </tr>\n",
       "    <tr>\n",
       "      <th>...</th>\n",
       "      <td>...</td>\n",
       "      <td>...</td>\n",
       "    </tr>\n",
       "    <tr>\n",
       "      <th>12771</th>\n",
       "      <td>1942915</td>\n",
       "      <td>УТБ (УТБ-2) — учебно-тренировочный бомбардиров...</td>\n",
       "    </tr>\n",
       "    <tr>\n",
       "      <th>12772</th>\n",
       "      <td>1943158</td>\n",
       "      <td>Анатолий Михайлович Иванов (род. 2 апреля 1935...</td>\n",
       "    </tr>\n",
       "    <tr>\n",
       "      <th>12773</th>\n",
       "      <td>1943580</td>\n",
       "      <td>Русские военнопленные в Османской империи — ро...</td>\n",
       "    </tr>\n",
       "    <tr>\n",
       "      <th>12774</th>\n",
       "      <td>1943820</td>\n",
       "      <td>В послевоенной литературе, склонной к сенсация...</td>\n",
       "    </tr>\n",
       "    <tr>\n",
       "      <th>12775</th>\n",
       "      <td>1944595</td>\n",
       "      <td>Биомы Южной Африки представляют разнообразие п...</td>\n",
       "    </tr>\n",
       "  </tbody>\n",
       "</table>\n",
       "<p>12776 rows × 2 columns</p>\n",
       "</div>"
      ],
      "text/plain": [
       "         index                                               text\n",
       "0            5  Социо́ника — псевдонаучная концепция типов лич...\n",
       "1            6  Шко́ла (от  — досуг, учебное занятие, школа) —...\n",
       "2           13  Военный коммунизм — название внутренней полити...\n",
       "3           30  Дворцо́вая пло́щадь (с 1918 до 1944 — площадь ...\n",
       "4           32  Эрмита́ж (от  — место уединения, келья, приют ...\n",
       "...        ...                                                ...\n",
       "12771  1942915  УТБ (УТБ-2) — учебно-тренировочный бомбардиров...\n",
       "12772  1943158  Анатолий Михайлович Иванов (род. 2 апреля 1935...\n",
       "12773  1943580  Русские военнопленные в Османской империи — ро...\n",
       "12774  1943820  В послевоенной литературе, склонной к сенсация...\n",
       "12775  1944595  Биомы Южной Африки представляют разнообразие п...\n",
       "\n",
       "[12776 rows x 2 columns]"
      ]
     },
     "execution_count": 160,
     "metadata": {},
     "output_type": "execute_result"
    },
    {
     "ename": "",
     "evalue": "",
     "output_type": "error",
     "traceback": [
      "\u001b[1;31mThe Kernel crashed while executing code in the the current cell or a previous cell. Please review the code in the cell(s) to identify a possible cause of the failure. Click <a href='https://aka.ms/vscodeJupyterKernelCrash'>here</a> for more info. View Jupyter <a href='command:jupyter.viewOutput'>log</a> for further details."
     ]
    }
   ],
   "source": [
    "pd.read_parquet('long_text_wiki.prk')"
   ]
  },
  {
   "cell_type": "code",
   "execution_count": 156,
   "metadata": {},
   "outputs": [
    {
     "data": {
      "text/plain": [
       "29249"
      ]
     },
     "execution_count": 156,
     "metadata": {},
     "output_type": "execute_result"
    }
   ],
   "source": [
    "len(long_text_only.loc[0].text)"
   ]
  },
  {
   "cell_type": "code",
   "execution_count": 157,
   "metadata": {},
   "outputs": [
    {
     "data": {
      "text/plain": [
       "6612"
      ]
     },
     "execution_count": 157,
     "metadata": {},
     "output_type": "execute_result"
    }
   ],
   "source": [
    "len(tokenizer(long_text_only.loc[0].text)['input_ids'])"
   ]
  },
  {
   "cell_type": "code",
   "execution_count": 131,
   "metadata": {},
   "outputs": [
    {
     "name": "stdout",
     "output_type": "stream",
     "text": [
      "Дворцо́вая пло́щадь (с 1918 до 1944 — площадь Урицкого) — главная площадь Санкт-Петербурга, архитектурный ансамбль, возникший во второй половине XVIII — первой половине XIX века.\n",
      "\n",
      "Площадь образуют памятники истории и культуры федерального значения: Зимний дворец, Здание штаба Гвардейского корпуса, Здание Главного штаба с Триумфальной аркой, Александровская колонна. Её размеры составляют около 5,4 га; существует также неверная оценка в 8 га. В составе исторической застройки центра Санкт-Петербурга площадь включена в список всемирного наследия и является пешеходной зоной.\n",
      "\n",
      "Во время праздничных мероприятий на площади может собраться до 35 тысяч человек (на «Алых парусах» в 2016 году).\n",
      "\n",
      "История названия \n",
      "Первоначальное название Адмиралтейский луг (включал также территорию современного Александровского сада) известно с 1736 года. Дано по Адмиралтейской верфи. Наименование существовало до 1772 года.\n",
      "\n",
      "Наименование Дворцовая площадь известно с 1766 года. Дано по расположенному рядом Зимнему дворцу, южный фасад которого выходит на площадь. В октябре 1918 года площадь была переименована в площадь Урицкого (в честь М. С. Урицкого, одного из организаторов штурма Зимнего дворца в 1917 году, председателя Петроградской ЧК, убитого 30 августа 1918 года при входе в здание Главного штаба). 13 января 1944 года вышло постановление о возвращении 20 исторических наименований, в том числе и Дворцовой площади.\n",
      "\n",
      "История\n",
      "\n",
      "Предыстория площади \n",
      "\n",
      "Предыстория площади связана с закладкой 5 ноября 1704 года Адмиралтейской крепости-верфи. Согласно требованиям военного времени Адмиралтейство окружили валами и рвом. Перед ним простиралось обширное открытое пространство — гласис, необходимый для действий крепостной артиллерии в случае вражеского нападения с суши. Вскоре после основания Адмиралтейство утратило функцию боевой крепости и вместе с ней постепенно ушло в прошлое и фортификационное значение гласиса. Первое время его территорию использовали для складирования и хранения строительного корабельного леса, больших якорей, других адмиралтейских припасов. Примерно с 1712 по 1717 год на части бывшего гласиса находился Морской рынок\n",
      ", а территория заросла травой и превратилась в Адмиралтейский луг.\n",
      "\n",
      "В 1721 году по инициативе Петра I была заложена основная планировочная схема Санкт-Петербурга в виде трелучника, исходящего от Адмиралтейства. Два луча (нынешние Невский и Вознесенский проспекты) возникли при Петре I, а третий луч (современная Гороховая улица) появился в 1736—1737 годах. Лучи этих трёх магистралей разделили огромный Адмиралтейский луг на несколько частей. Со времени царствования Анны Иоанновны в этом месте за казённый счёт устраивались празднества с фейерверками и народными гуляньями. На лугу на время торжеств по высочайшим указам возводили потешные павильоны, дворцы, устраивали винные фонтаны, жарились гигантские туши быков, которые затем отдавались на съедение народу. Сохранился любопытный документ от 29 апреля 1743 года, когда Елизавета повелела: «…луг против Зимнего дворца разровнять и засеять овсом». До 1760-х годов Адмиралтейский луг служил вспомогательной строительной площадкой императорского Зимнего дворца. В промежутках между перестройками дворца луг использовался для строевых учений воинских частей и выпаса придворного скота.\n",
      "\n",
      "В 1753 году Франческо Растрелли предложил архитектурно организовать растекающуюся огромную территорию, создать центральную площадь столицы. Одновременно с окончательным вариантом Зимнего дворца Растрелли проектировал площадь напротив него. В центре площади, по оси здания, архитектор предполагал установить конный монумент Петра I работы своего отца. Статуя должна была находиться внутри колоннады, состоящей из двух колец с четырьмя прорывами, и бо́льшим из них в сторону императорского дворца. Части луга, оказавшиеся за пределами колоннады, Растрелли намеревался решить в виде куртин строгой геометрической формы. Проект площади получил замкнутый, обособленный характер. Колоннада не была увязана с планировкой примыкающих частей города. Однако центральная ось площади (север — юг), определённая зодчим, прошедшая через главные ворота дворца, выведенная в Большую Луговую, сохранена во всех последующих проектах и окончательно закреплена К. Росси.\n",
      "\n",
      "В 1763 году Комиссией о каменном строении была опубликована конкурсная программа на составление генерального плана города с целью его дальнейшего благоустройства. Итогом конкурса стал план реконструкции центральной — Дворцовой площади Петербурга, выполненный Алексеем Квасовым и утверждённый 8 февраля 1765 года. Застройка с восточной стороны площади, согласно заданию, была сохранена, а западную границу площади архитектор наметил симметрично направлению Луговой, причём прямая линия этой границы на севере приобретала закругление. Эта линия сохранена на всех планах последующего времени.\n",
      "\n",
      "16 июня 1766 года на Дворцовой площади состоялась знаменитая Петербургская Карусель, отличавшаяся особой роскошью, фантазией и размахом. Участники Карусели делились на четыре кадрили: Римскую, Славянскую, Турецкую и Индийскую. Каждая группа имела соответствующие наряды, лошадиную сбрую, вооружение, особые колесницы для участвующих в состязании дам и даже различные музыкальные инструменты — всё это делали специально для праздника. По проекту Антонио Ринальди на площади, которая в то время представляла поросший травой луг, были построены пятиярусный деревянный амфитеатр на несколько тысяч зрителей с отдельными ложами для Екатерины II и двенадцатилетнего великого князя Павла Петровича. Поверху шла балюстрада, украшенная вазами, а барьер расписан гирляндами, воинскими доспехами, львиными головами. Участники Карусели были в роскошных туалетах. Зрители увидели переливающуюся гору богатства и изобилия в драгоценных камнях и кавалерских и конных золотых и серебряных уборах, ценой в многие миллионы рублей. Победителями среди дам стала графиня Наталья Чернышёва, а среди кавалеров — Григорий Орлов в уборе римского воина на гнедом коне.\n",
      "\n",
      "Возникновение и развитие площади \n",
      "Основой застройки Дворцовой площади стал существующий Зимний дворец (1754—1762, архитектор Б. Ф. Растрелли). Обращённый к Дворцовой площади южный фасад прорезан трёхчастной аркой. В период с 1764 по 1775 год в удалённых концах площади возникают здания Вольного экономического общества на углу с Невским пр. (арх. Валлен-Деламот, перестроено) и Южный павильон Малого Эрмитажа (арх. Фельтен).\n",
      "\n",
      "20 декабря 1778 года императрица велит преобразовать площадь «против императорского Зимнего дворца, между восточным углом Адмиралтейства и Миллионною улицею». В 1779 году Академия художеств объявляет конкурс на застройку площади. По итогам конкурса предпочтение было отдано модели «с порталом дорического ордера и антаблементом ордера коринфского… по открытии записки, приобщённой при упомянутой модели», сочинителем её оказался архитектор Ю. М. Фельтен. Предложение Фельтена фактически явилось типовым проектом по застройке площади, согласно плану реконструкции, разработанному Алексеем Квасовым ещё в 1765 году. Возведённые в 1779—1784 годах здания — «Глазовский дом», дом А. Д. Ланского, дом Я. А. Брюса — выстраивались по условной дуге.\n",
      "\n",
      "«§ 113. Дворцовая площадь перед зимним дворцом окружена построенными ИМПЕРАТРИЦЕЮ в 1788 году тремя домами наподобие амфитеатра. На одной сделаны две беседки с загородками и скамьями из дикого камня под железною кровлею, в которых зимою раскладывается огонь для кучеров, стоящих на улице во время съезда при дворе. На сей площади сменяется гвардия, вступающая на караул, и при великих торжествованиях даются здесь народу жареные быки и фонтаны с вином. В торжественные дни от гвардии и прочих команд производятся на оной поздравления музыкою и барабанным боем.» 1794 год.\n",
      "\n",
      "В 1810 году Александр I поручил архитектору Строительной комиссии Императорского кабинета А. А. Модюи разработку проекта регулирования и оформления территории перед императорской резиденцией — Зимним дворцом, Адмиралтейского луга и Исаакиевской площади. Представленные проекты были одобрены, однако началу реализации проектов помешало изменение международной обстановки. К реализации проекта реконструкции вернулись после окончания военных действий.\n",
      "\n",
      "В 1816 году архитектором А. Модюи представлен проект перепланировки центральных площадей, на котором Дворцовая площадь получает известные нам очертания: застройка восточной части симметрична западной.\n",
      "\n",
      "Весной 1819 года императором Александром I было принято решение о придании площади перед Зимним дворцом вида, подобающего центру столицы Российской империи. Реконструкцией занимался Комитет строений и гидравлических работ. Руководитель Комитета А. Бетанкур привлёк к участию в работах Карла Росси. 16 марта 1819 года Росси получил распоряжение разработать проект реконструкции старых зданий для Главного штаба. Через год, 15 марта 1820 года был издан указ о создании в составе Строительной комиссией Императорского кабинета особого стола «По устроению против Зимнего дворца правильной площади и каменным, кирпичным, гончарным и известковым заводам» с участием Росси. Стол находился в непосредственном подчинении Бетанкура.\n",
      "\n",
      "Получив распоряжение разработать проект здания, определяющего «устройство против Зимнего дворца правильной площади», Росси не ограничился приспособлением старых домов для нового использования. В 1819—1829 годах фельтеновские дома с их основными пропорциями и дугообразным положением в плане вошли в ансамбль здания Главного штаба (архитектор К. И. Росси). Оба крыла здания Росси соединяет триумфальной аркой. Два корпуса, соединённые аркой, охватывают пространство площади, придают её облику торжественность и монументальность.\n",
      "Росси решил градостроительную задачу, создав композицию в рамках сложного плана участка, заданной ещё Квасовым дугообразной линии границы площади и острого угла площади с рекой Мойкой\n",
      "\n",
      "В 1837—1843 годах с восточной стороны Дворцовой площади на месте Экзерциргауза (1797—1798, архитектор В. Бренна) по проекту архитектора А. П. Брюллова построено большое здание штаба Гвардейского корпуса. В 1830—1834 годах в центре площади по проекту архитектора Огюста Монферрана была возведена Александровская колонна (фигура ангела выполнена скульптором Б. И. Орловским). Как и Триумфальная арка Главного штаба, памятник посвящён победам русского оружия в войне с Наполеоном.\n",
      "\n",
      "С юго-западной стороны до 1840-х годов на углу Дворцовой площади и Невского проспекта находилось здание Вольного экономического общества. В 1845—1846 годах на этом месте построено здание (), фасад которого гармонично сочетается с фасадом Главного штаба.\n",
      "С северо-западной стороны, между Адмиралтейством и Зимним дворцом до конца XIX века существовала Разводная площадь. Площадь использовалась для развода караула, была образована после уничтожения канала и бастионов Адмиралтейской крепости. В 1896—1901 годах на её месте перед дворцом был разбит сквер с фонтаном (архитекторы Н. И. Крамской, Р. Шмеллинг, садовод Р. Ф. Катцер). В 1920-х годах ограда сквера была демонтирована и использована при украшении парка им. 9 Января на проспекте Стачек. Сам фонтан был реконструирован в 2007—2008 годах с восстановлением исторического вида.\n",
      "\n",
      "В ΧΙΧ — начале ΧΧ веков Дворцовая площадь была местом проведения военных смотров и парадов. Девятого января 1905 года на Дворцовой площади была расстреляна царскими войсками демонстрация рабочих. В память об этом событии Дворцовая набережная была переименована в Набережную 9-го января (до 1944). В ночь с 25 на 26 октября (7—8 ноября) 1917 года на Дворцовой площади произошёл решающий бой Октябрьского вооружённого восстания в Петрограде.\n",
      "\n",
      "В начале XX века Манежная площадь находилась на территории Адмиралтейской полицейской части.\n",
      "\n",
      "Перед Первой мировой войной все здания на Дворцовой площади были окрашены в красно-кирпичные цвета, на фоне которых и проходили события 1917 года. В 1940-х годах здания снова перекрасили в присущие им светлые тона.\n",
      "\n",
      "Советское время \n",
      "В советское время Дворцовая площадь была местом проведения демонстраций и парадов в дни революционных праздников. С октября 1918 года Дворцовая площадь официально называлась площадью Урицкого (в честь М. С. Урицкого, убитого в здании Главного штаба).\n",
      "\n",
      "22 сентября 1918 года на Дворцовой площади был установлен гипсовый памятник А. Н. Радищеву по проекту скульптора Л. В. Шервуда, который стал первым памятником, установленным согласно плану монументальной пропаганды, принятому ленинским правительством 14 апреля 1918 года. Бюст опрокинуло ветром в январе 1919 года, и восстанавливать его не стали.\n",
      "\n",
      "В 1918—1921 году на площади проходили масштабные театрализованные представления: «Действо о III Интернационале», «Мистерия освобождённого труда», «К мировой коммуне», «Взятие Зимнего дворца» (постановщики — Николай Евреинов, Юрий Анненков и другие). 7 ноября 1920 года на площади Урицкого перед ста тысячами зрителей были разыграны сцены, изображавшие события Октябрьской революции. В представлении принимали участие 6 тысяч человек.\n",
      "\n",
      "11 ноября 1924 года, в честь празднования Октябрьского переворота, был издан правительственный указ о реконструкции Александровской колонны — снять фигуру ангела и заменить её на скульптуру Ленина. Специальная комиссия в течение года рассматривала различные варианты изменения колонны, однако в конце концов от этого проекта отказались.\n",
      "\n",
      "20 июля 1924 года на площади состоялось представление «живых шахмат» с участием бойцов Красной армии (белые) и ВМФ (чёрные); играли шахматные мастера Илья Рабинович и Пётр Романовский.\n",
      "\n",
      "В 1932 году проводится реконструкция площади, в ходе которой брусчатку заменили на асфальт, а также убрали гранитные столбики вокруг Александровской колонны.\n",
      "\n",
      "С 1935 года на площади проходит финиш пробега Пушкин-Ленинград, старейшего пробега СССР.\n",
      "\n",
      "В годы Великой Отечественной войны, осенью 1941 года рассматривался вариант размещения на площади аэродрома для истребительного авиационного полка, при этом должна была быть перенесена Александровская колонна и вырублен Адмиралтейский сад, однако от этой идеи отказались.\n",
      "\n",
      "Историческое название было восстановлено 13 января 1944 года. В 1977 году на Дворцовой площади были проведены значительные реконструктивные работы и выполнено декоративное мощение, асфальтовое покрытие заменено диабазовой брусчаткой, воссозданы в первоначальных формах четыре фонаря по её углам.\n",
      "\n",
      "20 августа 1991 года на Дворцовой площади прошёл стихийный митинг в знак протеста против действий ГКЧП СССР. В митинге участвовало около ста тысяч человек.\n",
      "\n",
      "Современный период \n",
      "\n",
      "В ходе реставрации Дворцовой площади в 2001 году производились археологические исследования. В результате раскопок был найден фундамент флигеля Анны Иоанновны. В своё время он представлял собой трёхэтажный дворец, возведённый по проекту Растрелли в 1746 году. В соответствии с планом реставрации площади фундамент был изучен, сфотографирован и вновь зарыт землёй. В качестве одного из вариантов рассматривалась идея оставить фрагмент фундамента для обозрения, закрыв его толстым прочным стеклом.\n",
      "\n",
      "В 2006 году была выполнена реставрация Александровской колонны.\n",
      "\n",
      "На Дворцовой площади с 1990-х годов проводятся концерты, ежегодные спортивные и общественные мероприятия:\n",
      " Парад, посвящённый Дню города.\n",
      " Ежегодные международные легкоатлетические пробеги, такие как Пробег Пушкин — Санкт-Петербург и марафон «Белые ночи».\n",
      " Неофициальный праздник любителей бардовской песни проходит ежегодно 1 сентября у стен Зимнего дворца.\n",
      " Концерты музыкантов. Сборный концерт во время Августовского путча ГКЧП «Рок против танков» (22 августа 1991 года); группа «ДДТ» (27 мая 1993 года); Джо Кокер (15 сентября 2005 года); оперный тенор Пласидо Доминго (16 июня 2001 года); Пол Маккартни (20 июня 2004 года); Элтон Джон (6 июля 2007 года); группа «The Rolling Stones» (28 июня 2007 года); группа «Scorpions» (13 июня 2007 года); Эдита Пьеха (4 августа 2007 года); группа «Машина Времени» (23 сентября 2007 года); Роджер Уотерс (6 июня 2008 года); группа «Duran Duran» (4 июня 2009 года); Анастейша (4 июня 2009 года); Мадонна (2 августа 2009 года).\n",
      "\n",
      "В ноябре 2007 года на Дворцовой площади был сооружён платный каток с искусственным льдом. Каток сразу же привлёк к себе внимание многочисленных общественных организаций города, которые протестовали против строительства катка, ограничивающего доступ к части Дворцовой площади и подход к Александровской колонне, доступ к которым должен быть свободным. Каток был закрыт в марте 2008 года.\n",
      "\n",
      "В 2005 году Алексей Ковалёв представил Законодательному собранию Санкт-Петербурга законопроект «Об использовании Дворцовой площади при проведении массовых мероприятий». Предполагалось определить территориальные границы Дворцовой площади и установить правила по регулированию использования Дворцовой площади при проведении массовых мероприятий. Однако законопроект не был поддержан собранием. В 2008 году после истории с катком было объявлено, что Всемирный клуб петербуржцев собирается разработать законопроект о статусе Дворцовой площади и допустимых параметрах её использования.\n",
      "\n",
      "В сентябре 2015 года на Дворцовой площади был установлен Зеркальный куб — зеркальный павильон кубической формы, в стенах которого отражался весь ансамбль площади: Зимний дворец, Александровская колонна и арка Главного штаба. В зеркальном павильоне прошло частное мероприятие — презентация новой модели BMW. Через некоторое время павильон обрушился из-за сильного ветра и был демонтирован.\n",
      "\n",
      "Схема площади\n",
      "\n",
      "Ансамбль площади\n",
      "\n",
      "Формирование архитектурного ансамбля \n",
      "Дворцовая площадь представляет единый архитектурный ансамбль. Северной границей является фасад Зимнего дворца, южная граница имеет полуциркульное очертание, образованное зданием Главного штаба, два трёхэтажных корпуса которого соединены триумфальной аркой, увенчанной колесницей победы. В центре установлена Александровская колонна. С восточной стороны площадь обрамляет здание Штаба гвардейского корпуса.\n",
      "\n",
      "Постройка Б. Ф. Растрелли в 1754-1762 году Зимнего дворца положила начало архитектурному ансамблю Дворцовой площади. Огромный вклад в формирование архитектурного облика внёс К. И. Росси, доведя ансамбль до логического завершения. Возведение Росси в 1819—1829 годах здания Главного штаба с триумфальной аркой подчеркнуло парадный характер центральной площади Санкт-Петербурга. Классические колоннады фасадов нового здания образовали композиционное единство с барочными формами Зимнего дворца. Особенно эффектно было рассчитано Росси восприятие фасада дворца со стороны Большой Морской улицы, ведущей к арке Главного штаба. Формирование ансамбля завершили сооружение в её центре Александровской колонны по проекту О. Монферрана и возведение здания Штаба Гвардейского корпуса по замыслу А. П. Брюллова.\n",
      "\n",
      "Александровская колонна \n",
      "\n",
      "Воздвигнута в стиле ампир в 1834 году в центре Дворцовой площади французским архитектором Огюстом Монферраном по указу императора Николая I в память о победе его старшего брата Александра I над Наполеоном в Отечественной войне 1812 года.\n",
      "\n",
      "Проект был высочайше утверждён в 1829 году, монумент был открыт в 1834 году.\n",
      "Эскизные рисунки пьедестала выполнил О. Монферран. Барельефы на пьедестале колонны в аллегорической форме прославляют победу русского оружия и символизируют отвагу российской армии; отливка была выполнена на заводе Ч. Берда. Монолит розового гранита был изготовлен в Пютерлакской каменоломне под Выборгом в 1830—1832 годах. С большими сложностями он был перевезён из Пютерлакской каменоломни в 1832 году на специально сконструированной для этой цели барже в Санкт-Петербург. Монолит не закреплён и держится только силой собственного веса. Памятник венчает фигура ангела работы Бориса Орловского. В 1876 году архитектором К. К. Рахау были добавлены декоративные фонари у колонны.\n",
      "\n",
      "Колонна — один из известнейших памятников Петербурга.\n",
      "Нередко её ошибочно называют Александрийский столп, по стихотворению А. С. Пушкина «Памятник»:\n",
      "\n",
      "Зимний дворец \n",
      "\n",
      "Нынешнее здание дворца построено в 1754—1762 годах по проекту архитектора итальянского происхождения Б. Ф. Растрелли в стиле пышного елизаветинского барокко. С 1732 до 2 марта 1917 года на этом месте находилась официальная зимняя резиденция российских императоров. 29 декабря 1837 года в Зимнем дворце случился пожар. Потушить его не могли три дня, всё это время, вынесенное из дворца имущество, было сложено вокруг Александровской колонны. В 1838—1839 годах дворец был восстановлен по проектам архитекторов под руководством В. П. Стасова, А. П. Брюллова и других. С июля по ноябрь 1917 года Зимний дворец служил местом заседания Временного правительства. В 1918 году часть, а в 1922 году всё здание передано Государственному Эрмитажу.\n",
      "\n",
      "Современное здание в плане имеет форму квадрата со внутренним двором и развитыми угловыми ризалитами; фасады обращены к Неве, Адмиралтейству и Дворцовой площади. Парадность зданию придают пышная отделка фасадов и помещений. Главный фасад, обращённый к Дворцовой площади, прорезан трёхчастной аркой парадного проезда. В юго-восточной части второго этажа находился один из памятников рококо — Большая церковь Зимнего дворца, спроектированная ещё в 1763 году архитектором Растрелли.\n",
      "\n",
      "Здание штаба Гвардейского корпуса (дома 2—4) \n",
      "\n",
      "С востока ансамбль Дворцовой площади замыкает фасад здания бывшего штаба Гвардейского корпуса, построенного в позднеклассическом стиле по проекту архитектора А. П. Брюллова в 1837—1843 годах. На этом месте с конца ΧVΙΙΙ века находилось здание экзерциргауза, возведённое В. Бренной. Оно тянулось вдоль Миллионной улицы. В 1827 году был объявлен конкурс на проект строительства театра рядом с экзерциргаузом с единым «приличным» фасадом. Но затем от планов отказались.\n",
      "\n",
      "Перед Брюлловым стояла задача замкнуть гигантский периметр, соединив несовместимое — барочное здание Растрелли с классическим зданием Росси. И он нашёл решение, поставив 4-этажное здание, которое и изящно, и гармонично, но при этом нейтрально.\n",
      "\n",
      "Сейчас в здании Штаба Гвардейского корпуса находится штаб 6-й Ленинградской Краснознамённой армии военно-воздушных сил и противовоздушной обороны.\n",
      "\n",
      "Здание Главного штаба (дома 6—10) \n",
      "\n",
      "С юга площадь обрамляет здание Главного штаба, построенное в стиле ампир по проекту архитектора К. И. Росси в 1810—1829 годах. Здание состоит из трёх корпусов (два в восточной части и одно в западной), составляющих вместе дугу общей длиной 580 метров, соединённых триумфальной аркой, которая является композиционным центром и открывает парадный въезд на площадь со стороны Большой Морской улицы. Венчает арку победная колесница Славы (архитекторы скульптур В. И. Демут-Малиновский и С. С. Пименов).\n",
      "\n",
      "В зданиях, помимо Главного Штаба, располагались Военное министерство, Министерство иностранных дел и Министерство финансов (в восточном корпусе). После Октябрьской революции в здании располагался Наркомат Иностранных дел, а впоследствии отделение милиции. В настоящее время часть здания принадлежит Западному военному округу. В 1993 году восточное крыло здания Главного штаба передано Эрмитажу.\n",
      "\n",
      "Транспорт \n",
      "\n",
      "Рядом с Дворцовой площадью начиналась история общественного транспорта Санкт-Петербурга: 27 августа 1863 года открылся 1-й маршрут конно-железной дороги от Николаевского (ныне — Московского) вокзала мимо Дворцовой площади до Стрелки Васильевского острова. Затем конки стали ходить от Дворцовой площади до 6-й линии Васильевского острова через Николаевский (ныне — Благовещенский) мост. Первый рейс санкт-петербургского сухопутного трамвая стартовал а от Александровского сада, а 11 ноября оттуда же отправился первый автобус по маршруту Александровский сад — Балтийский вокзал. После большого перерыва при советской власти 24 декабря 1926 года от площади было возобновлено движение автобусов по маршруту площадь Урицкого (Дворцовая площадь) — Загородный проспект — площадь Восстания.\n",
      "\n",
      "По состоянию на январь 2017 года никакой общественный транспорт через площадь не проходит. Ближайшие станции метро:\n",
      " Станция метро «Адмиралтейская», которая располагается на линии  между станциями «Садовая» и «Спортивная» с выходом на угол Малой Морской улицы и Кирпичного переулка. Расстояние от выхода из метро до центра площади по прямой составит около 300 м, но с учётом особенностей расположения выхода из метро путь от одной точки до другой составляет 500 м.\n",
      "На Дворцовом проезде есть остановка наземного общественного транспорта «Дворцовая площадь». На ней останавливаются автобусы социальных маршрутов № 7, 10, 24, 191 и ряда коммерческих маршрутов и троллейбусы № 1, 7, 10, 11.\n",
      "\n",
      "Примечания\n",
      "\n",
      "Литература \n",
      "  (обл.)\n",
      "\n",
      "Ссылки \n",
      " \n",
      " \n",
      " \n",
      " \n",
      " Вид на Дворцовую площадь с высоты птичьего полёта на сервисе Яндекс.Панорамы.\n",
      " Энциклопедия Санкт-Петербурга\n",
      " на РГИС\n",
      " \n",
      "\n",
      "Дворцовая площадь\n",
      "Дворцовая площадь\n",
      "Дворцовая площадь\n",
      "Площади Санкт-Петербурга по алфавиту\n"
     ]
    }
   ],
   "source": [
    "print(long_text_only.loc[6].text)"
   ]
  },
  {
   "cell_type": "code",
   "execution_count": 104,
   "metadata": {},
   "outputs": [
    {
     "data": {
      "text/plain": [
       "269"
      ]
     },
     "execution_count": 104,
     "metadata": {},
     "output_type": "execute_result"
    }
   ],
   "source": [
    "long_text_only.loc[3].text.count('\\n')"
   ]
  },
  {
   "cell_type": "code",
   "execution_count": 105,
   "metadata": {},
   "outputs": [],
   "source": [
    "n_counts = list(map(lambda x: x.count('\\n'), long_text_only.text))"
   ]
  },
  {
   "cell_type": "code",
   "execution_count": 107,
   "metadata": {},
   "outputs": [
    {
     "data": {
      "text/plain": [
       "(array([5.3610e+03, 1.4572e+04, 6.8280e+03, 2.6980e+03, 1.2620e+03,\n",
       "        6.3000e+02, 3.7400e+02, 2.5000e+02, 1.2900e+02, 8.9000e+01,\n",
       "        5.8000e+01, 4.0000e+01, 3.7000e+01, 1.8000e+01, 1.6000e+01,\n",
       "        1.5000e+01, 1.3000e+01, 1.4000e+01, 7.0000e+00, 7.0000e+00,\n",
       "        1.1000e+01, 7.0000e+00, 5.0000e+00, 5.0000e+00, 8.0000e+00,\n",
       "        5.0000e+00, 5.0000e+00, 2.0000e+00, 5.0000e+00, 0.0000e+00,\n",
       "        2.0000e+00, 2.0000e+00, 2.0000e+00, 1.0000e+00, 0.0000e+00,\n",
       "        0.0000e+00, 1.0000e+00, 4.0000e+00, 0.0000e+00, 0.0000e+00,\n",
       "        1.0000e+00, 1.0000e+00, 1.0000e+00, 1.0000e+00, 3.0000e+00,\n",
       "        0.0000e+00, 0.0000e+00, 0.0000e+00, 0.0000e+00, 2.0000e+00,\n",
       "        0.0000e+00, 0.0000e+00, 1.0000e+00, 0.0000e+00, 0.0000e+00,\n",
       "        0.0000e+00, 0.0000e+00, 0.0000e+00, 0.0000e+00, 0.0000e+00,\n",
       "        1.0000e+00, 0.0000e+00, 0.0000e+00, 0.0000e+00, 1.0000e+00,\n",
       "        1.0000e+00, 0.0000e+00, 0.0000e+00, 0.0000e+00, 0.0000e+00,\n",
       "        0.0000e+00, 0.0000e+00, 0.0000e+00, 0.0000e+00, 0.0000e+00,\n",
       "        0.0000e+00, 0.0000e+00, 0.0000e+00, 0.0000e+00, 0.0000e+00,\n",
       "        0.0000e+00, 0.0000e+00, 0.0000e+00, 0.0000e+00, 0.0000e+00,\n",
       "        0.0000e+00, 0.0000e+00, 0.0000e+00, 0.0000e+00, 0.0000e+00,\n",
       "        0.0000e+00, 0.0000e+00, 0.0000e+00, 0.0000e+00, 0.0000e+00,\n",
       "        0.0000e+00, 0.0000e+00, 0.0000e+00, 0.0000e+00, 0.0000e+00,\n",
       "        0.0000e+00, 0.0000e+00, 0.0000e+00, 0.0000e+00, 0.0000e+00,\n",
       "        0.0000e+00, 0.0000e+00, 0.0000e+00, 0.0000e+00, 0.0000e+00,\n",
       "        0.0000e+00, 0.0000e+00, 0.0000e+00, 0.0000e+00, 0.0000e+00,\n",
       "        0.0000e+00, 0.0000e+00, 0.0000e+00, 0.0000e+00, 0.0000e+00,\n",
       "        0.0000e+00, 0.0000e+00, 0.0000e+00, 0.0000e+00, 0.0000e+00,\n",
       "        0.0000e+00, 0.0000e+00, 1.0000e+00]),\n",
       " array([   19.     ,   113.40625,   207.8125 ,   302.21875,   396.625  ,\n",
       "          491.03125,   585.4375 ,   679.84375,   774.25   ,   868.65625,\n",
       "          963.0625 ,  1057.46875,  1151.875  ,  1246.28125,  1340.6875 ,\n",
       "         1435.09375,  1529.5    ,  1623.90625,  1718.3125 ,  1812.71875,\n",
       "         1907.125  ,  2001.53125,  2095.9375 ,  2190.34375,  2284.75   ,\n",
       "         2379.15625,  2473.5625 ,  2567.96875,  2662.375  ,  2756.78125,\n",
       "         2851.1875 ,  2945.59375,  3040.     ,  3134.40625,  3228.8125 ,\n",
       "         3323.21875,  3417.625  ,  3512.03125,  3606.4375 ,  3700.84375,\n",
       "         3795.25   ,  3889.65625,  3984.0625 ,  4078.46875,  4172.875  ,\n",
       "         4267.28125,  4361.6875 ,  4456.09375,  4550.5    ,  4644.90625,\n",
       "         4739.3125 ,  4833.71875,  4928.125  ,  5022.53125,  5116.9375 ,\n",
       "         5211.34375,  5305.75   ,  5400.15625,  5494.5625 ,  5588.96875,\n",
       "         5683.375  ,  5777.78125,  5872.1875 ,  5966.59375,  6061.     ,\n",
       "         6155.40625,  6249.8125 ,  6344.21875,  6438.625  ,  6533.03125,\n",
       "         6627.4375 ,  6721.84375,  6816.25   ,  6910.65625,  7005.0625 ,\n",
       "         7099.46875,  7193.875  ,  7288.28125,  7382.6875 ,  7477.09375,\n",
       "         7571.5    ,  7665.90625,  7760.3125 ,  7854.71875,  7949.125  ,\n",
       "         8043.53125,  8137.9375 ,  8232.34375,  8326.75   ,  8421.15625,\n",
       "         8515.5625 ,  8609.96875,  8704.375  ,  8798.78125,  8893.1875 ,\n",
       "         8987.59375,  9082.     ,  9176.40625,  9270.8125 ,  9365.21875,\n",
       "         9459.625  ,  9554.03125,  9648.4375 ,  9742.84375,  9837.25   ,\n",
       "         9931.65625, 10026.0625 , 10120.46875, 10214.875  , 10309.28125,\n",
       "        10403.6875 , 10498.09375, 10592.5    , 10686.90625, 10781.3125 ,\n",
       "        10875.71875, 10970.125  , 11064.53125, 11158.9375 , 11253.34375,\n",
       "        11347.75   , 11442.15625, 11536.5625 , 11630.96875, 11725.375  ,\n",
       "        11819.78125, 11914.1875 , 12008.59375, 12103.     ]),\n",
       " <BarContainer object of 128 artists>)"
      ]
     },
     "execution_count": 107,
     "metadata": {},
     "output_type": "execute_result"
    },
    {
     "data": {
      "image/png": "[encoded data removed]",
      "text/plain": [
       "<Figure size 640x480 with 1 Axes>"
      ]
     },
     "metadata": {},
     "output_type": "display_data"
    }
   ],
   "source": [
    "plt.hist(n_counts, bins=128)"
   ]
  },
  {
   "cell_type": "code",
   "execution_count": null,
   "metadata": {},
   "outputs": [],
   "source": []
  }
 ],
 "metadata": {
  "kernelspec": {
   "display_name": "Python 3",
   "language": "python",
   "name": "python3"
  },
  "language_info": {
   "codemirror_mode": {
    "name": "ipython",
    "version": 3
   },
   "file_extension": ".py",
   "mimetype": "text/x-python",
   "name": "python",
   "nbconvert_exporter": "python",
   "pygments_lexer": "ipython3",
   "version": "3.10.8"
  }
 },
 "nbformat": 4,
 "nbformat_minor": 2
}
